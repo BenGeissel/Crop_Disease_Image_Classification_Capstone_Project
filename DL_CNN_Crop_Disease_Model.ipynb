{
 "cells": [
  {
   "cell_type": "markdown",
   "metadata": {},
   "source": [
    "# Crop Identification and Disease Recognition\n",
    "## Deep Learning Model\n",
    "## Image Classification with a Convolutional Neural Network\n",
    "#### Analysis by Ben Geissel\n",
    "\n",
    "## Introduction\n",
    "Fill in Text Text Text (Mention poor ML results and need for DL CNN)"
   ]
  },
  {
   "cell_type": "code",
   "execution_count": 2,
   "metadata": {},
   "outputs": [],
   "source": [
    "# Import necessary packages\n",
    "import pandas as pd\n",
    "import numpy as np\n",
    "import seaborn as sns\n",
    "import matplotlib.pyplot as plt\n",
    "%matplotlib inline\n",
    "import os\n",
    "import keras\n",
    "from keras.models import Sequential\n",
    "from keras.layers import Conv2D , Dropout, MaxPooling2D, Flatten, Dense\n",
    "from keras.preprocessing.image import ImageDataGenerator\n",
    "from keras.models import load_model\n",
    "from PIL.Image import core as image\n",
    "from PIL import Image\n",
    "from sklearn.model_selection import train_test_split\n",
    "from sklearn.preprocessing import LabelEncoder\n",
    "import image_processing"
   ]
  },
  {
   "cell_type": "markdown",
   "metadata": {},
   "source": [
    "## Data Exploration\n",
    "The main data exploration work is located in the Machine Learning notebook. Here I calculate the image class distribution for later use in the notebook."
   ]
  },
  {
   "cell_type": "code",
   "execution_count": 3,
   "metadata": {},
   "outputs": [
    {
     "name": "stdout",
     "output_type": "stream",
     "text": [
      "Wrong Shape Image Count: 0\n",
      "Total Color Image Count: 54304\n"
     ]
    }
   ],
   "source": [
    "# Run through image files and determine if any are the wrong shape\n",
    "# Count images by crop/disease type\n",
    "data_path = 'PlantVillage-Dataset/raw_image_data/color'\n",
    "diff_shape_count = 0\n",
    "img_count = 0\n",
    "leaf_type_img_count = 0\n",
    "leaf_type_img_count_dict = {}\n",
    "for folder in os.listdir(data_path):\n",
    "    for image in os.listdir('%s/%s' % (data_path, folder)):\n",
    "        img_loc = '%s/%s/%s' % (data_path, folder, image)\n",
    "        img = Image.open(img_loc)\n",
    "        arr = np.array(img)\n",
    "        img_shape = arr.shape\n",
    "        img_count += 1\n",
    "        leaf_type_img_count += 1\n",
    "        if img_shape != (256, 256, 3):\n",
    "            diff_shape_count += 1\n",
    "            print(img_loc)\n",
    "            print(img_shape)\n",
    "        else:\n",
    "            continue\n",
    "    leaf_type_img_count_dict[folder] = leaf_type_img_count\n",
    "    leaf_type_img_count = 0\n",
    "print('Wrong Shape Image Count: %d' % (diff_shape_count))\n",
    "print('Total Color Image Count: %d' % (img_count))"
   ]
  },
  {
   "cell_type": "markdown",
   "metadata": {},
   "source": [
    "## Data Preparation\n",
    "In the following cells, I will generate arrays for both the image data and class data. The images are converted into numpy arrays of shape (256, 256, 3). Additionally, I will normalize and center the pixel values for each image, which drastically helps the performance of the Convolutional Neural Network. Prepped data will be stored in numpy arrays."
   ]
  },
  {
   "cell_type": "code",
   "execution_count": 3,
   "metadata": {},
   "outputs": [],
   "source": [
    "# Run through image files and convert to pixel array and add to list\n",
    "# Create target list\n",
    "data_list = []\n",
    "target_list = []\n",
    "data_path = 'PlantVillage-Dataset/raw_image_data/color'\n",
    "for folder in os.listdir(data_path):\n",
    "    for image in os.listdir('%s/%s' % (data_path, folder)):\n",
    "        img_loc = '%s/%s/%s' % (data_path, folder, image)\n",
    "        img_arr = image_processing.image_to_array(img_loc)\n",
    "        data_list.append(img_arr)\n",
    "        target_list.append(folder)"
   ]
  },
  {
   "cell_type": "code",
   "execution_count": 4,
   "metadata": {},
   "outputs": [],
   "source": [
    "# Convert list to array\n",
    "data_array = np.array(data_list)\n",
    "target_array = np.array(target_list)"
   ]
  },
  {
   "cell_type": "code",
   "execution_count": 5,
   "metadata": {},
   "outputs": [],
   "source": [
    "# Normalize Arrays\n",
    "norm_list = []\n",
    "for img_array in data_array:\n",
    "    norm_arr = image_processing.pixel_normalization(img_array)\n",
    "    norm_list.append(norm_arr)"
   ]
  },
  {
   "cell_type": "code",
   "execution_count": 6,
   "metadata": {},
   "outputs": [],
   "source": [
    "# Standardize Arrays\n",
    "standardized_list = []\n",
    "for norm_arr in norm_list:\n",
    "    standardized_img_arr = image_processing.pixel_centering(norm_arr)\n",
    "    standardized_list.append(standardized_img_arr)"
   ]
  },
  {
   "cell_type": "code",
   "execution_count": 7,
   "metadata": {},
   "outputs": [],
   "source": [
    "# Convert to array\n",
    "standardized_data_array = np.array(standardized_list)"
   ]
  },
  {
   "cell_type": "markdown",
   "metadata": {},
   "source": [
    "Split the data into training, validation, and testing sets with an 70/15/15 split. Use a random state for reproduction. In the case of Deep Learning, I split the data into three sets. This is so that when my neural network runs it will train on the training data, validate on the validation data after each epoch. Adjust the weights of the neural network based on validation data performance and retrain the model each epoch. I then have a completely independent set of testing data to make sure my neural network is working properly after final training."
   ]
  },
  {
   "cell_type": "code",
   "execution_count": 8,
   "metadata": {},
   "outputs": [],
   "source": [
    "# Train Test Validation Split - 15% testing data, 15% validation data, 70% training data\n",
    "X_train, X_test, y_train, y_test = train_test_split(standardized_data_array, target_array,\n",
    "                                                    test_size = .15, random_state = 14)\n",
    "X_train, X_val, y_train, y_val = train_test_split(X_train, y_train,\n",
    "                                                 test_size = (1 - .7/.85), random_state = 14)"
   ]
  },
  {
   "cell_type": "markdown",
   "metadata": {},
   "source": [
    "## Model Preparation\n",
    "As mentioned previously, I will be using a convolutional neural network. In the following cells I will define certain hyperparameters for the model, label encode my 38 target classes and convert them into binary matrices, create an image data generator, and construct the neural network layer architecture."
   ]
  },
  {
   "cell_type": "code",
   "execution_count": 9,
   "metadata": {},
   "outputs": [],
   "source": [
    "# Define epochs, batch size, and number of classes\n",
    "batch_size = 100\n",
    "epochs = 25\n",
    "n_classes = 38"
   ]
  },
  {
   "cell_type": "code",
   "execution_count": 10,
   "metadata": {},
   "outputs": [],
   "source": [
    "# Label Encode Target Classes\n",
    "target_class_list = list(leaf_type_img_count_dict.keys())\n",
    "le = LabelEncoder()\n",
    "le.fit(target_class_list)\n",
    "target_class_int_list = list(le.classes_)\n",
    "y_train = le.transform(y_train)\n",
    "y_val = le.transform(y_val)\n",
    "y_test = le.transform(y_test)"
   ]
  },
  {
   "cell_type": "code",
   "execution_count": 11,
   "metadata": {},
   "outputs": [],
   "source": [
    "# Convert target class vectors to target class binary matrices\n",
    "y_train = keras.utils.to_categorical(y_train, num_classes = n_classes)\n",
    "y_val = keras.utils.to_categorical(y_val, num_classes = n_classes)\n",
    "y_test = keras.utils.to_categorical(y_test, num_classes = n_classes)"
   ]
  },
  {
   "cell_type": "markdown",
   "metadata": {},
   "source": [
    "The below piece of code checks to make sure the GPUs are being used on the cloud computing service I used."
   ]
  },
  {
   "cell_type": "code",
   "execution_count": 12,
   "metadata": {},
   "outputs": [
    {
     "data": {
      "text/plain": [
       "[PhysicalDevice(name='/physical_device:GPU:0', device_type='GPU'),\n",
       " PhysicalDevice(name='/physical_device:GPU:1', device_type='GPU'),\n",
       " PhysicalDevice(name='/physical_device:GPU:2', device_type='GPU'),\n",
       " PhysicalDevice(name='/physical_device:GPU:3', device_type='GPU')]"
      ]
     },
     "execution_count": 12,
     "metadata": {},
     "output_type": "execute_result"
    }
   ],
   "source": [
    "# Check to see that GPU is being used\n",
    "import tensorflow as tf\n",
    "tf.config.list_physical_devices('GPU')"
   ]
  },
  {
   "cell_type": "markdown",
   "metadata": {},
   "source": [
    "The image generator below gathers more data from each image by shifting, rotating, zooming, flipping, etc... This generator is essential to a high performing model in this case. It helped to increase my accuracy by about 15%."
   ]
  },
  {
   "cell_type": "code",
   "execution_count": 13,
   "metadata": {},
   "outputs": [],
   "source": [
    "# Create image generator object\n",
    "img_gen = ImageDataGenerator(width_shift_range = 0.15, height_shift_range = .15, rotation_range = 30, shear_range = .25,\n",
    "                            zoom_range = .25, horizontal_flip = True)"
   ]
  },
  {
   "cell_type": "markdown",
   "metadata": {},
   "source": [
    "Below is the architecture for convolutional neural network. The model will consist of convolution layers, pooling layers, dropout layers, and dense layers. All layers use a ReLu activation function except for the final layer, which uses softmax."
   ]
  },
  {
   "cell_type": "code",
   "execution_count": 14,
   "metadata": {},
   "outputs": [],
   "source": [
    "# Construct convolutional neural network architecture\n",
    "model = Sequential()\n",
    "model.add(Conv2D(32, kernel_size = (3, 3), padding = 'same', activation = 'relu', input_shape = (256,256,3)))\n",
    "model.add(MaxPooling2D(pool_size = (3, 3)))\n",
    "model.add(Dropout(0.25))\n",
    "model.add(Conv2D(64, (3, 3), padding = 'same', activation = 'relu'))\n",
    "model.add(Conv2D(64, (3, 3), padding = 'same', activation = 'relu'))\n",
    "model.add(MaxPooling2D(pool_size = (2, 2)))\n",
    "model.add(Dropout(0.25))\n",
    "model.add(Conv2D(128, (3, 3), padding = 'same', activation = 'relu'))\n",
    "model.add(Conv2D(128, (3, 3), padding = 'same', activation = 'relu'))\n",
    "model.add(MaxPooling2D(pool_size = (2, 2)))\n",
    "model.add(Dropout(0.25))\n",
    "model.add(Flatten())\n",
    "model.add(Dense(1024, activation = 'relu'))\n",
    "model.add(Dropout(0.5))\n",
    "model.add(Dense(512, activation = 'relu'))\n",
    "model.add(Dropout(0.5))\n",
    "model.add(Dense(n_classes, activation = 'softmax'))"
   ]
  },
  {
   "cell_type": "markdown",
   "metadata": {},
   "source": [
    "## Running the Model\n",
    "The model is compiled and run below. The model uses a categorical crossentropy loss/cost function and uses an Adadelta optimizer. As mentioned above, the model uses the training data to train and validates on the validation data. After each epoch, the model adjust the weights throughout the neural network."
   ]
  },
  {
   "cell_type": "code",
   "execution_count": 15,
   "metadata": {},
   "outputs": [
    {
     "name": "stdout",
     "output_type": "stream",
     "text": [
      "Epoch 1/25\n",
      "380/380 [==============================] - 478s 1s/step - loss: 2.7235 - accuracy: 0.2560 - mse: 0.0225 - val_loss: 1.9180 - val_accuracy: 0.4271 - val_mse: 0.0185\n",
      "Epoch 2/25\n",
      "380/380 [==============================] - 482s 1s/step - loss: 1.6948 - accuracy: 0.5084 - mse: 0.0166 - val_loss: 1.5150 - val_accuracy: 0.5832 - val_mse: 0.0149\n",
      "Epoch 3/25\n",
      "380/380 [==============================] - 480s 1s/step - loss: 1.1266 - accuracy: 0.6596 - mse: 0.0121 - val_loss: 0.6573 - val_accuracy: 0.7941 - val_mse: 0.0076\n",
      "Epoch 4/25\n",
      "380/380 [==============================] - 487s 1s/step - loss: 0.8186 - accuracy: 0.7499 - mse: 0.0092 - val_loss: 0.6814 - val_accuracy: 0.8152 - val_mse: 0.0072\n",
      "Epoch 5/25\n",
      "380/380 [==============================] - 467s 1s/step - loss: 0.6349 - accuracy: 0.8035 - mse: 0.0074 - val_loss: 0.4591 - val_accuracy: 0.8628 - val_mse: 0.0053\n",
      "Epoch 6/25\n",
      "380/380 [==============================] - 479s 1s/step - loss: 0.5203 - accuracy: 0.8394 - mse: 0.0061 - val_loss: 0.3408 - val_accuracy: 0.8957 - val_mse: 0.0041\n",
      "Epoch 7/25\n",
      "380/380 [==============================] - 484s 1s/step - loss: 0.4349 - accuracy: 0.8657 - mse: 0.0052 - val_loss: 0.4857 - val_accuracy: 0.8716 - val_mse: 0.0052\n",
      "Epoch 8/25\n",
      "380/380 [==============================] - 481s 1s/step - loss: 0.3850 - accuracy: 0.8812 - mse: 0.0046 - val_loss: 0.2150 - val_accuracy: 0.9336 - val_mse: 0.0027\n",
      "Epoch 9/25\n",
      "380/380 [==============================] - 474s 1s/step - loss: 0.3354 - accuracy: 0.8998 - mse: 0.0040 - val_loss: 0.4022 - val_accuracy: 0.8974 - val_mse: 0.0042\n",
      "Epoch 10/25\n",
      "380/380 [==============================] - 478s 1s/step - loss: 0.3024 - accuracy: 0.9067 - mse: 0.0036 - val_loss: 0.5198 - val_accuracy: 0.8833 - val_mse: 0.0048\n",
      "Epoch 11/25\n",
      "380/380 [==============================] - 475s 1s/step - loss: 0.2788 - accuracy: 0.9135 - mse: 0.0034 - val_loss: 0.3691 - val_accuracy: 0.9157 - val_mse: 0.0034\n",
      "Epoch 12/25\n",
      "380/380 [==============================] - 482s 1s/step - loss: 0.2492 - accuracy: 0.9240 - mse: 0.0030 - val_loss: 0.4197 - val_accuracy: 0.9132 - val_mse: 0.0036\n",
      "Epoch 13/25\n",
      "380/380 [==============================] - 483s 1s/step - loss: 0.2359 - accuracy: 0.9273 - mse: 0.0029 - val_loss: 0.1905 - val_accuracy: 0.9471 - val_mse: 0.0022\n",
      "Epoch 14/25\n",
      "380/380 [==============================] - 464s 1s/step - loss: 0.2231 - accuracy: 0.9318 - mse: 0.0027 - val_loss: 0.3869 - val_accuracy: 0.9144 - val_mse: 0.0035\n",
      "Epoch 15/25\n",
      "380/380 [==============================] - 461s 1s/step - loss: 0.2088 - accuracy: 0.9369 - mse: 0.0025 - val_loss: 0.4001 - val_accuracy: 0.9274 - val_mse: 0.0031\n",
      "Epoch 16/25\n",
      "380/380 [==============================] - 466s 1s/step - loss: 0.2002 - accuracy: 0.9388 - mse: 0.0024 - val_loss: 0.2420 - val_accuracy: 0.9429 - val_mse: 0.0024\n",
      "Epoch 17/25\n",
      "380/380 [==============================] - 464s 1s/step - loss: 0.1892 - accuracy: 0.9433 - mse: 0.0023 - val_loss: 0.2548 - val_accuracy: 0.9433 - val_mse: 0.0024\n",
      "Epoch 18/25\n",
      "380/380 [==============================] - 481s 1s/step - loss: 0.1758 - accuracy: 0.9473 - mse: 0.0021 - val_loss: 0.4752 - val_accuracy: 0.8934 - val_mse: 0.0044\n",
      "Epoch 19/25\n",
      "380/380 [==============================] - 481s 1s/step - loss: 0.1626 - accuracy: 0.9502 - mse: 0.0020 - val_loss: 0.5065 - val_accuracy: 0.9256 - val_mse: 0.0033\n",
      "Epoch 20/25\n",
      "380/380 [==============================] - 482s 1s/step - loss: 0.1624 - accuracy: 0.9507 - mse: 0.0020 - val_loss: 0.2292 - val_accuracy: 0.9541 - val_mse: 0.0020\n",
      "Epoch 21/25\n",
      "380/380 [==============================] - 464s 1s/step - loss: 0.1537 - accuracy: 0.9545 - mse: 0.0018 - val_loss: 0.2720 - val_accuracy: 0.9482 - val_mse: 0.0022\n",
      "Epoch 22/25\n",
      "380/380 [==============================] - 463s 1s/step - loss: 0.1545 - accuracy: 0.9544 - mse: 0.0018 - val_loss: 0.1631 - val_accuracy: 0.9601 - val_mse: 0.0016\n",
      "Epoch 23/25\n",
      "380/380 [==============================] - 475s 1s/step - loss: 0.1454 - accuracy: 0.9572 - mse: 0.0017 - val_loss: 0.2120 - val_accuracy: 0.9564 - val_mse: 0.0019\n",
      "Epoch 24/25\n",
      "380/380 [==============================] - 479s 1s/step - loss: 0.1356 - accuracy: 0.9597 - mse: 0.0016 - val_loss: 0.2966 - val_accuracy: 0.9492 - val_mse: 0.0022\n",
      "Epoch 25/25\n",
      "380/380 [==============================] - 459s 1s/step - loss: 0.1354 - accuracy: 0.9586 - mse: 0.0017 - val_loss: 0.1099 - val_accuracy: 0.9725 - val_mse: 0.0011\n"
     ]
    }
   ],
   "source": [
    "# Compile model and run\n",
    "model.compile(loss = keras.losses.categorical_crossentropy,\n",
    "              optimizer = keras.optimizers.Adadelta(),\n",
    "              metrics = ['accuracy', 'mse'])\n",
    "\n",
    "model_history = model.fit_generator(img_gen.flow(X_train, y_train, batch_size = batch_size),\n",
    "                                    validation_data = (X_val, y_val),\n",
    "                                    steps_per_epoch = len(X_train) // batch_size,\n",
    "                                    epochs = epochs,\n",
    "                                    verbose = 1)"
   ]
  },
  {
   "cell_type": "markdown",
   "metadata": {},
   "source": [
    "## Model Results\n",
    "Model results are plotted below over the course of the model epochs. You can see both training and validation accuracy increase over the epochs, while the loss decreases over the epochs. Finally, the accuracy and loss for both the validation data and testing data (completely separate data) are shown, with both displaying very good results (97% accuracy!!)"
   ]
  },
  {
   "cell_type": "code",
   "execution_count": 16,
   "metadata": {},
   "outputs": [
    {
     "data": {
      "image/png": "[encoded data removed]",
      "text/plain": [
       "<Figure size 720x360 with 1 Axes>"
      ]
     },
     "metadata": {},
     "output_type": "display_data"
    },
    {
     "data": {
      "image/png": "[encoded data removed]",
      "text/plain": [
       "<Figure size 720x360 with 1 Axes>"
      ]
     },
     "metadata": {},
     "output_type": "display_data"
    },
    {
     "name": "stdout",
     "output_type": "stream",
     "text": [
      "Validation Loss: 0.10985230835749277\n",
      "Validation Accuracy: 0.972501814365387\n",
      "\n",
      "Test Loss: 0.10202657610397277\n",
      "Test Accuracy: 0.972501814365387\n"
     ]
    }
   ],
   "source": [
    "# Plotting metrics over epochs\n",
    "sns.set_style('darkgrid')\n",
    "model_acc = model_history.history['accuracy']\n",
    "model_val_acc = model_history.history['val_accuracy']\n",
    "model_loss = model_history.history['loss']\n",
    "model_val_loss = model_history.history['val_loss']\n",
    "model_epochs = range(1, len(model_acc) + 1)\n",
    "plt.figure(figsize = (10,5))\n",
    "plt.plot(model_epochs, model_acc, 'darkblue', label = 'Training Accuracy')\n",
    "plt.plot(model_epochs, model_val_acc, 'darkred', label = 'Validation Accuracy')\n",
    "plt.title('Training & Validation Accuracy')\n",
    "plt.legend(loc = 'best')\n",
    "plt.xlabel('# of Epochs')\n",
    "plt.ylabel('Accuracy')\n",
    "plt.show()\n",
    "\n",
    "plt.figure(figsize = (10,5))\n",
    "plt.plot(model_epochs, model_loss, 'darkblue', label = 'Training Loss')\n",
    "plt.plot(model_epochs, model_val_loss, 'darkred', label = 'Validation Loss')\n",
    "plt.title('Training & Validation Loss')\n",
    "plt.legend(loc = 'best')\n",
    "plt.xlabel('# of Epochs')\n",
    "plt.ylabel('Loss')\n",
    "plt.show()\n",
    "\n",
    "# Final Metrics\n",
    "score = model.evaluate(X_val, y_val, verbose = 0)\n",
    "print('Validation Loss:', score[0])\n",
    "print('Validation Accuracy:', score[1])\n",
    "print()\n",
    "score = model.evaluate(X_test, y_test, verbose = 0)\n",
    "print('Test Loss:', score[0])\n",
    "print('Test Accuracy:', score[1])"
   ]
  },
  {
   "cell_type": "code",
   "execution_count": 17,
   "metadata": {},
   "outputs": [],
   "source": [
    "# Saving model for future use\n",
    "model.save(\"crop_leaves_disease_model.h5\")"
   ]
  },
  {
   "cell_type": "markdown",
   "metadata": {},
   "source": [
    "## Conclusions\n",
    "\n",
    "Text Text Text (mention DL CNN improvement. Mention what this could mean for users of the model.)"
   ]
  }
 ],
 "metadata": {
  "kernelspec": {
   "display_name": "Python 3",
   "language": "python",
   "name": "python3"
  },
  "language_info": {
   "codemirror_mode": {
    "name": "ipython",
    "version": 3
   },
   "file_extension": ".py",
   "mimetype": "text/x-python",
   "name": "python",
   "nbconvert_exporter": "python",
   "pygments_lexer": "ipython3",
   "version": "3.6.9"
  }
 },
 "nbformat": 4,
 "nbformat_minor": 4
}
