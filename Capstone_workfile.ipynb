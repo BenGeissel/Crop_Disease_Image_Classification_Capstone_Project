{
 "cells": [
  {
   "cell_type": "code",
   "execution_count": 1,
   "metadata": {},
   "outputs": [
    {
     "name": "stderr",
     "output_type": "stream",
     "text": [
      "Using TensorFlow backend.\n"
     ]
    }
   ],
   "source": [
    "# Import necessary packages\n",
    "import pandas as pd\n",
    "import numpy as np\n",
    "import matplotlib.pyplot as plt\n",
    "%matplotlib inline\n",
    "from keras.models import Sequential\n",
    "from keras.layers import Conv2D\n",
    "from keras.layers import MaxPooling2D\n",
    "from keras.layers import Flatten\n",
    "from keras.layers import Dense\n",
    "from PIL.Image import core as image\n",
    "import os\n",
    "from PIL import Image"
   ]
  },
  {
   "cell_type": "code",
   "execution_count": 3,
   "metadata": {},
   "outputs": [
    {
     "name": "stdout",
     "output_type": "stream",
     "text": [
      "PlantVillage-Dataset/raw_image_data/color/Pepper,_bell___healthy/42f083e2-272d-4f83-ad9a-573ee90e50ec___Screen Shot 2015-05-06 at 4.01.13 PM.png\n",
      "(256, 256, 4)\n",
      "1\n",
      "54305\n"
     ]
    },
    {
     "data": {
      "text/plain": [
       "[('Strawberry___healthy', 456),\n",
       " ('Grape___Black_rot', 1180),\n",
       " ('Potato___Early_blight', 1000),\n",
       " ('Blueberry___healthy', 1502),\n",
       " ('Corn_(maize)___healthy', 1162),\n",
       " ('Tomato___Target_Spot', 1404),\n",
       " ('Peach___healthy', 360),\n",
       " ('Potato___Late_blight', 1000),\n",
       " ('Tomato___Late_blight', 1909),\n",
       " ('Tomato___Tomato_mosaic_virus', 373),\n",
       " ('Pepper,_bell___healthy', 1478),\n",
       " ('Orange___Haunglongbing_(Citrus_greening)', 5507),\n",
       " ('Tomato___Leaf_Mold', 952),\n",
       " ('Grape___Leaf_blight_(Isariopsis_Leaf_Spot)', 1076),\n",
       " ('Cherry_(including_sour)___Powdery_mildew', 1052),\n",
       " ('Apple___Cedar_apple_rust', 275),\n",
       " ('Tomato___Bacterial_spot', 2127),\n",
       " ('Grape___healthy', 423),\n",
       " ('Tomato___Early_blight', 1000),\n",
       " ('Corn_(maize)___Common_rust_', 1192),\n",
       " ('Grape___Esca_(Black_Measles)', 1383),\n",
       " ('Raspberry___healthy', 371),\n",
       " ('Tomato___healthy', 1591),\n",
       " ('Cherry_(including_sour)___healthy', 854),\n",
       " ('Tomato___Tomato_Yellow_Leaf_Curl_Virus', 5357),\n",
       " ('Apple___Apple_scab', 630),\n",
       " ('Corn_(maize)___Northern_Leaf_Blight', 985),\n",
       " ('Tomato___Spider_mites Two-spotted_spider_mite', 1676),\n",
       " ('Peach___Bacterial_spot', 2297),\n",
       " ('Pepper,_bell___Bacterial_spot', 997),\n",
       " ('Tomato___Septoria_leaf_spot', 1771),\n",
       " ('Squash___Powdery_mildew', 1835),\n",
       " ('Corn_(maize)___Cercospora_leaf_spot Gray_leaf_spot', 513),\n",
       " ('Apple___Black_rot', 621),\n",
       " ('Apple___healthy', 1645),\n",
       " ('Strawberry___Leaf_scorch', 1109),\n",
       " ('Potato___healthy', 152),\n",
       " ('Soybean___healthy', 5090)]"
      ]
     },
     "execution_count": 3,
     "metadata": {},
     "output_type": "execute_result"
    }
   ],
   "source": [
    "# Run through image files and determine if any are the wrong shape\n",
    "# Count images by crop/disease type\n",
    "data_path = 'PlantVillage-Dataset/raw_image_data/color'\n",
    "diff_shape_count = 0\n",
    "img_count = 0\n",
    "leaf_type_img_count = 0\n",
    "leaf_type_img_count_list = []\n",
    "for folder in os.listdir(data_path):\n",
    "    for image in os.listdir(f'{data_path}/{folder}'):\n",
    "        img_loc = f'{data_path}/{folder}/{image}'\n",
    "        img = Image.open(img_loc)\n",
    "        arr = np.array(img)\n",
    "        img_shape = arr.shape\n",
    "        img_count += 1\n",
    "        leaf_type_img_count += 1\n",
    "        if img_shape != (256, 256, 3):\n",
    "            diff_shape_count += 1\n",
    "            print(img_loc)\n",
    "            print(img_shape)\n",
    "        else:\n",
    "            continue\n",
    "    leaf_type_img_count_list.append((folder, leaf_type_img_count))\n",
    "    leaf_type_img_count = 0\n",
    "print(diff_shape_count)\n",
    "print(img_count)\n",
    "leaf_type_img_count_list"
   ]
  },
  {
   "cell_type": "code",
   "execution_count": null,
   "metadata": {},
   "outputs": [],
   "source": [
    "epochs = 25\n",
    "init_lr = 1e-3\n",
    "bs = 32\n",
    "default_image_size = (256, 256)\n",
    "image_size = 0\n",
    "directory_root = '../input/plantvillage/'\n",
    "width=256\n",
    "height=256\n",
    "depth=3"
   ]
  },
  {
   "cell_type": "code",
   "execution_count": null,
   "metadata": {},
   "outputs": [],
   "source": [
    "def convert_image_to_array(image_dir):\n",
    "    try:\n",
    "        image = cv2.imread(image_dir)\n",
    "        if image is not None :\n",
    "            image = cv2.resize(image, default_image_size)   \n",
    "            return img_to_array(image)\n",
    "        else :\n",
    "            return np.array([])\n",
    "    except Exception as e:\n",
    "        print(f\"Error : {e}\")\n",
    "        return None"
   ]
  }
 ],
 "metadata": {
  "kernelspec": {
   "display_name": "Python 3",
   "language": "python",
   "name": "python3"
  },
  "language_info": {
   "codemirror_mode": {
    "name": "ipython",
    "version": 3
   },
   "file_extension": ".py",
   "mimetype": "text/x-python",
   "name": "python",
   "nbconvert_exporter": "python",
   "pygments_lexer": "ipython3",
   "version": "3.6.9"
  }
 },
 "nbformat": 4,
 "nbformat_minor": 4
}
