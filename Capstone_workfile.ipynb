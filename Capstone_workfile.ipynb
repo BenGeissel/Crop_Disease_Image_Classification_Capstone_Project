{
 "cells": [
  {
   "cell_type": "code",
   "execution_count": 1,
   "metadata": {},
   "outputs": [
    {
     "name": "stderr",
     "output_type": "stream",
     "text": [
      "Using TensorFlow backend.\n"
     ]
    }
   ],
   "source": [
    "# Import necessary packages\n",
    "import pandas as pd\n",
    "import numpy as np\n",
    "import matplotlib.pyplot as plt\n",
    "%matplotlib inline\n",
    "import keras\n",
    "from keras.models import Sequential\n",
    "from keras.layers import Conv2D , Dropout, MaxPooling2D, Flatten, Dense\n",
    "from PIL.Image import core as image\n",
    "import os\n",
    "from PIL import Image\n",
    "from sklearn.model_selection import train_test_split\n",
    "from sklearn.preprocessing import LabelEncoder"
   ]
  },
  {
   "cell_type": "code",
   "execution_count": 2,
   "metadata": {},
   "outputs": [
    {
     "name": "stdout",
     "output_type": "stream",
     "text": [
      "Wrong Shape Image Count: 0\n",
      "Image Count: 54304\n"
     ]
    },
    {
     "data": {
      "text/plain": [
       "{'Strawberry___healthy': 456,\n",
       " 'Grape___Black_rot': 1180,\n",
       " 'Potato___Early_blight': 1000,\n",
       " 'Blueberry___healthy': 1502,\n",
       " 'Corn_(maize)___healthy': 1162,\n",
       " 'Tomato___Target_Spot': 1404,\n",
       " 'Peach___healthy': 360,\n",
       " 'Potato___Late_blight': 1000,\n",
       " 'Tomato___Late_blight': 1909,\n",
       " 'Tomato___Tomato_mosaic_virus': 373,\n",
       " 'Pepper,_bell___healthy': 1477,\n",
       " 'Orange___Haunglongbing_(Citrus_greening)': 5507,\n",
       " 'Tomato___Leaf_Mold': 952,\n",
       " 'Grape___Leaf_blight_(Isariopsis_Leaf_Spot)': 1076,\n",
       " 'Cherry_(including_sour)___Powdery_mildew': 1052,\n",
       " 'Apple___Cedar_apple_rust': 275,\n",
       " 'Tomato___Bacterial_spot': 2127,\n",
       " 'Grape___healthy': 423,\n",
       " 'Tomato___Early_blight': 1000,\n",
       " 'Corn_(maize)___Common_rust_': 1192,\n",
       " 'Grape___Esca_(Black_Measles)': 1383,\n",
       " 'Raspberry___healthy': 371,\n",
       " 'Tomato___healthy': 1591,\n",
       " 'Cherry_(including_sour)___healthy': 854,\n",
       " 'Tomato___Tomato_Yellow_Leaf_Curl_Virus': 5357,\n",
       " 'Apple___Apple_scab': 630,\n",
       " 'Corn_(maize)___Northern_Leaf_Blight': 985,\n",
       " 'Tomato___Spider_mites Two-spotted_spider_mite': 1676,\n",
       " 'Peach___Bacterial_spot': 2297,\n",
       " 'Pepper,_bell___Bacterial_spot': 997,\n",
       " 'Tomato___Septoria_leaf_spot': 1771,\n",
       " 'Squash___Powdery_mildew': 1835,\n",
       " 'Corn_(maize)___Cercospora_leaf_spot Gray_leaf_spot': 513,\n",
       " 'Apple___Black_rot': 621,\n",
       " 'Apple___healthy': 1645,\n",
       " 'Strawberry___Leaf_scorch': 1109,\n",
       " 'Potato___healthy': 152,\n",
       " 'Soybean___healthy': 5090}"
      ]
     },
     "execution_count": 2,
     "metadata": {},
     "output_type": "execute_result"
    }
   ],
   "source": [
    "# Run through image files and determine if any are the wrong shape\n",
    "# Count images by crop/disease type\n",
    "data_path = 'PlantVillage-Dataset/raw_image_data/color'\n",
    "diff_shape_count = 0\n",
    "img_count = 0\n",
    "leaf_type_img_count = 0\n",
    "leaf_type_img_count_dict = {}\n",
    "for folder in os.listdir(data_path):\n",
    "    for image in os.listdir(f'{data_path}/{folder}'):\n",
    "        img_loc = f'{data_path}/{folder}/{image}'\n",
    "        img = Image.open(img_loc)\n",
    "        arr = np.array(img)\n",
    "        img_shape = arr.shape\n",
    "        img_count += 1\n",
    "        leaf_type_img_count += 1\n",
    "        if img_shape != (256, 256, 3):\n",
    "            diff_shape_count += 1\n",
    "            print(img_loc)\n",
    "            print(img_shape)\n",
    "        else:\n",
    "            continue\n",
    "    leaf_type_img_count_dict[folder] = leaf_type_img_count\n",
    "    leaf_type_img_count = 0\n",
    "print(f'Wrong Shape Image Count: {diff_shape_count}')\n",
    "print(f'Image Count: {img_count}')\n",
    "leaf_type_img_count_dict"
   ]
  },
  {
   "cell_type": "code",
   "execution_count": 3,
   "metadata": {},
   "outputs": [],
   "source": [
    "# Define function to convert every image into (256*256*3) array\n",
    "def image_to_array(image_loc):\n",
    "    img = Image.open(image_loc)\n",
    "    arr = np.array(img)\n",
    "    return arr"
   ]
  },
  {
   "cell_type": "code",
   "execution_count": 5,
   "metadata": {},
   "outputs": [],
   "source": [
    "# Run through image files and convert to pixel array\n",
    "# Add array to larger data array\n",
    "data_list = []\n",
    "target_list = []\n",
    "data_path = 'PlantVillage-Dataset/raw_image_data/color'\n",
    "for folder in os.listdir(data_path):\n",
    "    for image in os.listdir(f'{data_path}/{folder}'):\n",
    "        img_loc = f'{data_path}/{folder}/{image}'\n",
    "        img_arr = image_to_array(img_loc)\n",
    "        data_list.append(img_arr)\n",
    "        target_list.append(folder)\n",
    "data_array = np.array(data_list)\n",
    "target_array = np.array(target_list)"
   ]
  },
  {
   "cell_type": "code",
   "execution_count": 5,
   "metadata": {},
   "outputs": [],
   "source": [
    "# Train Test Split\n",
    "X_train, X_test, y_train, y_test = train_test_split(data_array, target_array, test_size = .25, random_state = 70)"
   ]
  },
  {
   "cell_type": "code",
   "execution_count": 11,
   "metadata": {},
   "outputs": [],
   "source": [
    "# Save Train Test Splits with numpy\n",
    "train_test_dict = {'X_train' : X_train, 'X_test' : X_test, 'y_train' : y_train, 'y_test' : y_test}\n",
    "for key, val in train_test_dict.items():\n",
    "    np.save(f'../Numpy_Objects/{key}.npy', val)"
   ]
  },
  {
   "cell_type": "code",
   "execution_count": 11,
   "metadata": {},
   "outputs": [],
   "source": [
    "# Load Train Test Splits with numpy\n",
    "X_train = None\n",
    "X_test = None\n",
    "y_train = None\n",
    "y_test = None\n",
    "train_test_dict = {'X_train' : X_train, 'X_test' : X_test, 'y_train' : y_train, 'y_test' : y_test}\n",
    "for key in train_test_dict.keys():\n",
    "    train_test_dict[key] = np.load(f'../Numpy_Objects/{key}.npy')\n",
    "X_train = train_test_dict['X_train']\n",
    "X_test = train_test_dict['X_test']\n",
    "y_train = train_test_dict['y_train']\n",
    "y_test = train_test_dict['y_test']"
   ]
  },
  {
   "cell_type": "code",
   "execution_count": 12,
   "metadata": {},
   "outputs": [],
   "source": [
    "# Define epochs, batch size, and number of classes\n",
    "batch_size = 500\n",
    "epochs = 3\n",
    "n_classes = 38"
   ]
  },
  {
   "cell_type": "code",
   "execution_count": 13,
   "metadata": {},
   "outputs": [],
   "source": [
    "# Label Encode Target Classes\n",
    "target_class_list = list(leaf_type_img_count_dict.keys())\n",
    "le = LabelEncoder()\n",
    "le.fit(target_class_list)\n",
    "target_class_int_list = list(le.classes_)\n",
    "y_train = le.transform(y_train)\n",
    "y_test = le.transform(y_test)"
   ]
  },
  {
   "cell_type": "code",
   "execution_count": 14,
   "metadata": {},
   "outputs": [],
   "source": [
    "# Convert target class vectors to target class binary matrices\n",
    "y_train = keras.utils.to_categorical(y_train, num_classes = n_classes)\n",
    "y_test = keras.utils.to_categorical(y_test, num_classes = n_classes)"
   ]
  },
  {
   "cell_type": "code",
   "execution_count": 15,
   "metadata": {},
   "outputs": [],
   "source": [
    "# Construct convolutional neural network architecture\n",
    "model = Sequential()\n",
    "model.add(Conv2D(32, kernel_size=(3, 3),\n",
    "                 activation='relu',\n",
    "                 input_shape=(256,256,3)))\n",
    "model.add(Conv2D(64, (3, 3), activation='relu'))\n",
    "model.add(MaxPooling2D(pool_size=(2, 2)))\n",
    "model.add(Dropout(0.25))\n",
    "model.add(Flatten())\n",
    "model.add(Dense(128, activation='relu'))\n",
    "model.add(Dropout(0.5))\n",
    "model.add(Dense(n_classes, activation='softmax'))"
   ]
  },
  {
   "cell_type": "code",
   "execution_count": null,
   "metadata": {},
   "outputs": [
    {
     "name": "stdout",
     "output_type": "stream",
     "text": [
      "Train on 40728 samples, validate on 13576 samples\n",
      "Epoch 1/3\n"
     ]
    }
   ],
   "source": [
    "# Compile model and run\n",
    "model.compile(loss=keras.losses.categorical_crossentropy,\n",
    "              optimizer=keras.optimizers.Adadelta(),\n",
    "              metrics=['accuracy'])\n",
    "\n",
    "model.fit(X_train, y_train,\n",
    "          batch_size = batch_size,\n",
    "          epochs = epochs,\n",
    "          verbose = 1,\n",
    "          validation_data = (X_test, y_test))\n",
    "score = model.evaluate(X_test, y_test, verbose = 0)\n",
    "print('Test loss:', score[0])\n",
    "print('Test accuracy:', score[1])"
   ]
  },
  {
   "cell_type": "code",
   "execution_count": null,
   "metadata": {},
   "outputs": [],
   "source": []
  },
  {
   "cell_type": "markdown",
   "metadata": {},
   "source": [
    "### MNIST Examples"
   ]
  },
  {
   "cell_type": "code",
   "execution_count": 49,
   "metadata": {},
   "outputs": [],
   "source": [
    "from keras.datasets import mnist"
   ]
  },
  {
   "cell_type": "code",
   "execution_count": 50,
   "metadata": {},
   "outputs": [
    {
     "name": "stdout",
     "output_type": "stream",
     "text": [
      "Downloading data from https://s3.amazonaws.com/img-datasets/mnist.npz\n",
      "11493376/11490434 [==============================] - 1s 0us/step\n"
     ]
    }
   ],
   "source": [
    "(x_train, y_train), (x_test, y_test) = mnist.load_data()"
   ]
  },
  {
   "cell_type": "code",
   "execution_count": 52,
   "metadata": {},
   "outputs": [
    {
     "data": {
      "text/plain": [
       "(60000, 28, 28)"
      ]
     },
     "execution_count": 52,
     "metadata": {},
     "output_type": "execute_result"
    }
   ],
   "source": [
    "x_train.shape"
   ]
  },
  {
   "cell_type": "code",
   "execution_count": 53,
   "metadata": {},
   "outputs": [
    {
     "data": {
      "text/plain": [
       "array([5, 0, 4, ..., 5, 6, 8], dtype=uint8)"
      ]
     },
     "execution_count": 53,
     "metadata": {},
     "output_type": "execute_result"
    }
   ],
   "source": [
    "y_train"
   ]
  },
  {
   "cell_type": "code",
   "execution_count": null,
   "metadata": {},
   "outputs": [],
   "source": []
  },
  {
   "cell_type": "code",
   "execution_count": null,
   "metadata": {},
   "outputs": [],
   "source": [
    "batch_size = 100\n",
    "num_classes = 38\n",
    "epochs = 5"
   ]
  }
 ],
 "metadata": {
  "kernelspec": {
   "display_name": "Python 3",
   "language": "python",
   "name": "python3"
  },
  "language_info": {
   "codemirror_mode": {
    "name": "ipython",
    "version": 3
   },
   "file_extension": ".py",
   "mimetype": "text/x-python",
   "name": "python",
   "nbconvert_exporter": "python",
   "pygments_lexer": "ipython3",
   "version": "3.6.9"
  }
 },
 "nbformat": 4,
 "nbformat_minor": 4
}
